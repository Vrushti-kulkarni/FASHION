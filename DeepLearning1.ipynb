{
  "nbformat": 4,
  "nbformat_minor": 0,
  "metadata": {
    "colab": {
      "provenance": [],
      "gpuType": "T4"
    },
    "kernelspec": {
      "name": "python3",
      "display_name": "Python 3"
    },
    "language_info": {
      "name": "python"
    },
    "accelerator": "GPU"
  },
  "cells": [
    {
      "cell_type": "code",
      "execution_count": 2,
      "metadata": {
        "id": "ndQISSFJow6B"
      },
      "outputs": [],
      "source": [
        "import keras\n",
        "import pandas as pd\n",
        "import numpy as np"
      ]
    },
    {
      "cell_type": "code",
      "source": [
        "import keras.datasets\n",
        "from keras.preprocessing import image_dataset_from_directory\n",
        "from keras import Sequential, layers, models, callbacks, losses, optimizers, metrics"
      ],
      "metadata": {
        "id": "Cesi8ykEo3O0"
      },
      "execution_count": 3,
      "outputs": []
    },
    {
      "cell_type": "code",
      "source": [
        "(X_train, y_train),(X_test, y_test) = keras.datasets.fashion_mnist.load_data()"
      ],
      "metadata": {
        "id": "0SIxX7b6pLqA",
        "outputId": "d68cb912-8fca-4e90-cf05-863b2c9861eb",
        "colab": {
          "base_uri": "https://localhost:8080/"
        }
      },
      "execution_count": 4,
      "outputs": [
        {
          "output_type": "stream",
          "name": "stdout",
          "text": [
            "Downloading data from https://storage.googleapis.com/tensorflow/tf-keras-datasets/train-labels-idx1-ubyte.gz\n",
            "\u001b[1m29515/29515\u001b[0m \u001b[32m━━━━━━━━━━━━━━━━━━━━\u001b[0m\u001b[37m\u001b[0m \u001b[1m0s\u001b[0m 0us/step\n",
            "Downloading data from https://storage.googleapis.com/tensorflow/tf-keras-datasets/train-images-idx3-ubyte.gz\n",
            "\u001b[1m26421880/26421880\u001b[0m \u001b[32m━━━━━━━━━━━━━━━━━━━━\u001b[0m\u001b[37m\u001b[0m \u001b[1m0s\u001b[0m 0us/step\n",
            "Downloading data from https://storage.googleapis.com/tensorflow/tf-keras-datasets/t10k-labels-idx1-ubyte.gz\n",
            "\u001b[1m5148/5148\u001b[0m \u001b[32m━━━━━━━━━━━━━━━━━━━━\u001b[0m\u001b[37m\u001b[0m \u001b[1m0s\u001b[0m 0us/step\n",
            "Downloading data from https://storage.googleapis.com/tensorflow/tf-keras-datasets/t10k-images-idx3-ubyte.gz\n",
            "\u001b[1m4422102/4422102\u001b[0m \u001b[32m━━━━━━━━━━━━━━━━━━━━\u001b[0m\u001b[37m\u001b[0m \u001b[1m0s\u001b[0m 0us/step\n"
          ]
        }
      ]
    },
    {
      "cell_type": "code",
      "source": [
        "y_train"
      ],
      "metadata": {
        "colab": {
          "base_uri": "https://localhost:8080/"
        },
        "id": "5XCS5Es7rHM6",
        "outputId": "a5f3c8b9-1d5d-4431-b51d-e7edb65d3bff"
      },
      "execution_count": 5,
      "outputs": [
        {
          "output_type": "execute_result",
          "data": {
            "text/plain": [
              "array([9, 0, 0, ..., 3, 0, 5], dtype=uint8)"
            ]
          },
          "metadata": {},
          "execution_count": 5
        }
      ]
    },
    {
      "cell_type": "code",
      "source": [
        "X_train.shape"
      ],
      "metadata": {
        "colab": {
          "base_uri": "https://localhost:8080/"
        },
        "id": "_nUZmN0qrcL-",
        "outputId": "6bb2e0c2-3832-4f96-cc07-2d2497d786dc"
      },
      "execution_count": 6,
      "outputs": [
        {
          "output_type": "execute_result",
          "data": {
            "text/plain": [
              "(60000, 28, 28)"
            ]
          },
          "metadata": {},
          "execution_count": 6
        }
      ]
    },
    {
      "cell_type": "code",
      "source": [
        "X_train[0].shape"
      ],
      "metadata": {
        "colab": {
          "base_uri": "https://localhost:8080/"
        },
        "id": "AJEBq9venFiq",
        "outputId": "7b1e9005-e6ae-4ff2-aad0-0180f0cc81fc"
      },
      "execution_count": 7,
      "outputs": [
        {
          "output_type": "execute_result",
          "data": {
            "text/plain": [
              "(28, 28)"
            ]
          },
          "metadata": {},
          "execution_count": 7
        }
      ]
    },
    {
      "cell_type": "code",
      "source": [
        "#no need to flatten just normalise\n",
        "X_train = X_train.astype('float32')/255.0 #dividing by pixels max value\n",
        "X_test = X_test.astype('float32')/255.0 #dividing by pixels max"
      ],
      "metadata": {
        "id": "HTm9d5Qorjsj"
      },
      "execution_count": 8,
      "outputs": []
    },
    {
      "cell_type": "markdown",
      "source": [
        "**for CNN the expected dimension is 4D as a result, we expand dimension, (batch_size, height, width, channels).\n",
        "done to understand the grey scale of image**"
      ],
      "metadata": {
        "id": "Njjduj4pWsqw"
      }
    },
    {
      "cell_type": "code",
      "source": [
        "X_train = np.expand_dims(X_train, -1)\n",
        "X_test = np.expand_dims(X_test, -1)"
      ],
      "metadata": {
        "id": "3Gs60-9crzL1"
      },
      "execution_count": 9,
      "outputs": []
    },
    {
      "cell_type": "markdown",
      "source": [
        "***flatten during before dense layers, EXPAND during before CNN***"
      ],
      "metadata": {
        "id": "3cdJ05KcYd-_"
      }
    },
    {
      "cell_type": "code",
      "source": [
        "X_train.shape"
      ],
      "metadata": {
        "colab": {
          "base_uri": "https://localhost:8080/"
        },
        "id": "lYTnS7TkW2rJ",
        "outputId": "66b35874-bb6a-4e58-e022-52e4f1b9398a"
      },
      "execution_count": 10,
      "outputs": [
        {
          "output_type": "execute_result",
          "data": {
            "text/plain": [
              "(60000, 28, 28, 1)"
            ]
          },
          "metadata": {},
          "execution_count": 10
        }
      ]
    },
    {
      "cell_type": "code",
      "source": [
        "import matplotlib.pyplot as plt\n",
        "\n",
        "image = X_train[0]  # Extract the first image\n",
        "\n",
        "# Plot the image\n",
        "plt.imshow(image, cmap = 'gray')  # Display in grayscale\n",
        "plt.title(\"First Image\")\n",
        "plt.show()"
      ],
      "metadata": {
        "colab": {
          "base_uri": "https://localhost:8080/",
          "height": 452
        },
        "id": "BSw_DjrYcUNR",
        "outputId": "d072ba66-2174-4808-816c-3497ab9b3a40"
      },
      "execution_count": 11,
      "outputs": [
        {
          "output_type": "display_data",
          "data": {
            "text/plain": [
              "<Figure size 640x480 with 1 Axes>"
            ],
            "image/png": "[encoded data removed]"
          },
          "metadata": {}
        }
      ]
    },
    {
      "cell_type": "code",
      "source": [
        "type(X_train)"
      ],
      "metadata": {
        "colab": {
          "base_uri": "https://localhost:8080/"
        },
        "id": "dHcCUktKXEEd",
        "outputId": "7b52c51b-fd64-4e0d-f82f-227dff3651fe"
      },
      "execution_count": 12,
      "outputs": [
        {
          "output_type": "execute_result",
          "data": {
            "text/plain": [
              "numpy.ndarray"
            ]
          },
          "metadata": {},
          "execution_count": 12
        }
      ]
    },
    {
      "cell_type": "code",
      "source": [
        "X_train[0].shape"
      ],
      "metadata": {
        "colab": {
          "base_uri": "https://localhost:8080/"
        },
        "id": "K3X4KasSYpCf",
        "outputId": "0f15d660-372b-4715-ca07-ac14cbaba787"
      },
      "execution_count": 13,
      "outputs": [
        {
          "output_type": "execute_result",
          "data": {
            "text/plain": [
              "(28, 28, 1)"
            ]
          },
          "metadata": {},
          "execution_count": 13
        }
      ]
    },
    {
      "cell_type": "code",
      "source": [
        "X_train[0]"
      ],
      "metadata": {
        "colab": {
          "base_uri": "https://localhost:8080/"
        },
        "id": "YQUcQ5ROc58W",
        "outputId": "4fbce5a6-7ac6-4955-b595-f08e6c002bd6"
      },
      "execution_count": 14,
      "outputs": [
        {
          "output_type": "execute_result",
          "data": {
            "text/plain": [
              "array([[[0.        ],\n",
              "        [0.        ],\n",
              "        [0.        ],\n",
              "        [0.        ],\n",
              "        [0.        ],\n",
              "        [0.        ],\n",
              "        [0.        ],\n",
              "        [0.        ],\n",
              "        [0.        ],\n",
              "        [0.        ],\n",
              "        [0.        ],\n",
              "        [0.        ],\n",
              "        [0.        ],\n",
              "        [0.        ],\n",
              "        [0.        ],\n",
              "        [0.        ],\n",
              "        [0.        ],\n",
              "        [0.        ],\n",
              "        [0.        ],\n",
              "        [0.        ],\n",
              "        [0.        ],\n",
              "        [0.        ],\n",
              "        [0.        ],\n",
              "        [0.        ],\n",
              "        [0.        ],\n",
              "        [0.        ],\n",
              "        [0.        ],\n",
              "        [0.        ]],\n",
              "\n",
              "       [[0.        ],\n",
              "        [0.        ],\n",
              "        [0.        ],\n",
              "        [0.        ],\n",
              "        [0.        ],\n",
              "        [0.        ],\n",
              "        [0.        ],\n",
              "        [0.        ],\n",
              "        [0.        ],\n",
              "        [0.        ],\n",
              "        [0.        ],\n",
              "        [0.        ],\n",
              "        [0.        ],\n",
              "        [0.        ],\n",
              "        [0.        ],\n",
              "        [0.        ],\n",
              "        [0.        ],\n",
              "        [0.        ],\n",
              "        [0.        ],\n",
              "        [0.        ],\n",
              "        [0.        ],\n",
              "        [0.        ],\n",
              "        [0.        ],\n",
              "        [0.        ],\n",
              "        [0.        ],\n",
              "        [0.        ],\n",
              "        [0.        ],\n",
              "        [0.        ]],\n",
              "\n",
              "       [[0.        ],\n",
              "        [0.        ],\n",
              "        [0.        ],\n",
              "        [0.        ],\n",
              "        [0.        ],\n",
              "        [0.        ],\n",
              "        [0.        ],\n",
              "        [0.        ],\n",
              "        [0.        ],\n",
              "        [0.        ],\n",
              "        [0.        ],\n",
              "        [0.        ],\n",
              "        [0.        ],\n",
              "        [0.        ],\n",
              "        [0.        ],\n",
              "        [0.        ],\n",
              "        [0.        ],\n",
              "        [0.        ],\n",
              "        [0.        ],\n",
              "        [0.        ],\n",
              "        [0.        ],\n",
              "        [0.        ],\n",
              "        [0.        ],\n",
              "        [0.        ],\n",
              "        [0.        ],\n",
              "        [0.        ],\n",
              "        [0.        ],\n",
              "        [0.        ]],\n",
              "\n",
              "       [[0.        ],\n",
              "        [0.        ],\n",
              "        [0.        ],\n",
              "        [0.        ],\n",
              "        [0.        ],\n",
              "        [0.        ],\n",
              "        [0.        ],\n",
              "        [0.        ],\n",
              "        [0.        ],\n",
              "        [0.        ],\n",
              "        [0.        ],\n",
              "        [0.        ],\n",
              "        [0.00392157],\n",
              "        [0.        ],\n",
              "        [0.        ],\n",
              "        [0.05098039],\n",
              "        [0.28627452],\n",
              "        [0.        ],\n",
              "        [0.        ],\n",
              "        [0.00392157],\n",
              "        [0.01568628],\n",
              "        [0.        ],\n",
              "        [0.        ],\n",
              "        [0.        ],\n",
              "        [0.        ],\n",
              "        [0.00392157],\n",
              "        [0.00392157],\n",
              "        [0.        ]],\n",
              "\n",
              "       [[0.        ],\n",
              "        [0.        ],\n",
              "        [0.        ],\n",
              "        [0.        ],\n",
              "        [0.        ],\n",
              "        [0.        ],\n",
              "        [0.        ],\n",
              "        [0.        ],\n",
              "        [0.        ],\n",
              "        [0.        ],\n",
              "        [0.        ],\n",
              "        [0.        ],\n",
              "        [0.01176471],\n",
              "        [0.        ],\n",
              "        [0.14117648],\n",
              "        [0.53333336],\n",
              "        [0.49803922],\n",
              "        [0.24313726],\n",
              "        [0.21176471],\n",
              "        [0.        ],\n",
              "        [0.        ],\n",
              "        [0.        ],\n",
              "        [0.00392157],\n",
              "        [0.01176471],\n",
              "        [0.01568628],\n",
              "        [0.        ],\n",
              "        [0.        ],\n",
              "        [0.01176471]],\n",
              "\n",
              "       [[0.        ],\n",
              "        [0.        ],\n",
              "        [0.        ],\n",
              "        [0.        ],\n",
              "        [0.        ],\n",
              "        [0.        ],\n",
              "        [0.        ],\n",
              "        [0.        ],\n",
              "        [0.        ],\n",
              "        [0.        ],\n",
              "        [0.        ],\n",
              "        [0.        ],\n",
              "        [0.02352941],\n",
              "        [0.        ],\n",
              "        [0.4       ],\n",
              "        [0.8       ],\n",
              "        [0.6901961 ],\n",
              "        [0.5254902 ],\n",
              "        [0.5647059 ],\n",
              "        [0.48235294],\n",
              "        [0.09019608],\n",
              "        [0.        ],\n",
              "        [0.        ],\n",
              "        [0.        ],\n",
              "        [0.        ],\n",
              "        [0.04705882],\n",
              "        [0.03921569],\n",
              "        [0.        ]],\n",
              "\n",
              "       [[0.        ],\n",
              "        [0.        ],\n",
              "        [0.        ],\n",
              "        [0.        ],\n",
              "        [0.        ],\n",
              "        [0.        ],\n",
              "        [0.        ],\n",
              "        [0.        ],\n",
              "        [0.        ],\n",
              "        [0.        ],\n",
              "        [0.        ],\n",
              "        [0.        ],\n",
              "        [0.        ],\n",
              "        [0.        ],\n",
              "        [0.60784316],\n",
              "        [0.9254902 ],\n",
              "        [0.8117647 ],\n",
              "        [0.69803923],\n",
              "        [0.41960785],\n",
              "        [0.6117647 ],\n",
              "        [0.6313726 ],\n",
              "        [0.42745098],\n",
              "        [0.2509804 ],\n",
              "        [0.09019608],\n",
              "        [0.3019608 ],\n",
              "        [0.50980395],\n",
              "        [0.28235295],\n",
              "        [0.05882353]],\n",
              "\n",
              "       [[0.        ],\n",
              "        [0.        ],\n",
              "        [0.        ],\n",
              "        [0.        ],\n",
              "        [0.        ],\n",
              "        [0.        ],\n",
              "        [0.        ],\n",
              "        [0.        ],\n",
              "        [0.        ],\n",
              "        [0.        ],\n",
              "        [0.        ],\n",
              "        [0.00392157],\n",
              "        [0.        ],\n",
              "        [0.27058825],\n",
              "        [0.8117647 ],\n",
              "        [0.8745098 ],\n",
              "        [0.85490197],\n",
              "        [0.84705883],\n",
              "        [0.84705883],\n",
              "        [0.6392157 ],\n",
              "        [0.49803922],\n",
              "        [0.4745098 ],\n",
              "        [0.47843137],\n",
              "        [0.57254905],\n",
              "        [0.5529412 ],\n",
              "        [0.34509805],\n",
              "        [0.6745098 ],\n",
              "        [0.25882354]],\n",
              "\n",
              "       [[0.        ],\n",
              "        [0.        ],\n",
              "        [0.        ],\n",
              "        [0.        ],\n",
              "        [0.        ],\n",
              "        [0.        ],\n",
              "        [0.        ],\n",
              "        [0.        ],\n",
              "        [0.        ],\n",
              "        [0.00392157],\n",
              "        [0.00392157],\n",
              "        [0.00392157],\n",
              "        [0.        ],\n",
              "        [0.78431374],\n",
              "        [0.9098039 ],\n",
              "        [0.9098039 ],\n",
              "        [0.9137255 ],\n",
              "        [0.8980392 ],\n",
              "        [0.8745098 ],\n",
              "        [0.8745098 ],\n",
              "        [0.84313726],\n",
              "        [0.8352941 ],\n",
              "        [0.6431373 ],\n",
              "        [0.49803922],\n",
              "        [0.48235294],\n",
              "        [0.76862746],\n",
              "        [0.8980392 ],\n",
              "        [0.        ]],\n",
              "\n",
              "       [[0.        ],\n",
              "        [0.        ],\n",
              "        [0.        ],\n",
              "        [0.        ],\n",
              "        [0.        ],\n",
              "        [0.        ],\n",
              "        [0.        ],\n",
              "        [0.        ],\n",
              "        [0.        ],\n",
              "        [0.        ],\n",
              "        [0.        ],\n",
              "        [0.        ],\n",
              "        [0.        ],\n",
              "        [0.7176471 ],\n",
              "        [0.88235295],\n",
              "        [0.84705883],\n",
              "        [0.8745098 ],\n",
              "        [0.89411765],\n",
              "        [0.92156863],\n",
              "        [0.8901961 ],\n",
              "        [0.8784314 ],\n",
              "        [0.87058824],\n",
              "        [0.8784314 ],\n",
              "        [0.8666667 ],\n",
              "        [0.8745098 ],\n",
              "        [0.9607843 ],\n",
              "        [0.6784314 ],\n",
              "        [0.        ]],\n",
              "\n",
              "       [[0.        ],\n",
              "        [0.        ],\n",
              "        [0.        ],\n",
              "        [0.        ],\n",
              "        [0.        ],\n",
              "        [0.        ],\n",
              "        [0.        ],\n",
              "        [0.        ],\n",
              "        [0.        ],\n",
              "        [0.        ],\n",
              "        [0.        ],\n",
              "        [0.        ],\n",
              "        [0.        ],\n",
              "        [0.75686276],\n",
              "        [0.89411765],\n",
              "        [0.85490197],\n",
              "        [0.8352941 ],\n",
              "        [0.7764706 ],\n",
              "        [0.7058824 ],\n",
              "        [0.83137256],\n",
              "        [0.8235294 ],\n",
              "        [0.827451  ],\n",
              "        [0.8352941 ],\n",
              "        [0.8745098 ],\n",
              "        [0.8627451 ],\n",
              "        [0.9529412 ],\n",
              "        [0.7921569 ],\n",
              "        [0.        ]],\n",
              "\n",
              "       [[0.        ],\n",
              "        [0.        ],\n",
              "        [0.        ],\n",
              "        [0.        ],\n",
              "        [0.        ],\n",
              "        [0.        ],\n",
              "        [0.        ],\n",
              "        [0.        ],\n",
              "        [0.        ],\n",
              "        [0.00392157],\n",
              "        [0.01176471],\n",
              "        [0.        ],\n",
              "        [0.04705882],\n",
              "        [0.85882354],\n",
              "        [0.8627451 ],\n",
              "        [0.83137256],\n",
              "        [0.85490197],\n",
              "        [0.7529412 ],\n",
              "        [0.6627451 ],\n",
              "        [0.8901961 ],\n",
              "        [0.8156863 ],\n",
              "        [0.85490197],\n",
              "        [0.8784314 ],\n",
              "        [0.83137256],\n",
              "        [0.8862745 ],\n",
              "        [0.77254903],\n",
              "        [0.81960785],\n",
              "        [0.20392157]],\n",
              "\n",
              "       [[0.        ],\n",
              "        [0.        ],\n",
              "        [0.        ],\n",
              "        [0.        ],\n",
              "        [0.        ],\n",
              "        [0.        ],\n",
              "        [0.        ],\n",
              "        [0.        ],\n",
              "        [0.        ],\n",
              "        [0.        ],\n",
              "        [0.02352941],\n",
              "        [0.        ],\n",
              "        [0.3882353 ],\n",
              "        [0.95686275],\n",
              "        [0.87058824],\n",
              "        [0.8627451 ],\n",
              "        [0.85490197],\n",
              "        [0.79607844],\n",
              "        [0.7764706 ],\n",
              "        [0.8666667 ],\n",
              "        [0.84313726],\n",
              "        [0.8352941 ],\n",
              "        [0.87058824],\n",
              "        [0.8627451 ],\n",
              "        [0.9607843 ],\n",
              "        [0.46666667],\n",
              "        [0.654902  ],\n",
              "        [0.21960784]],\n",
              "\n",
              "       [[0.        ],\n",
              "        [0.        ],\n",
              "        [0.        ],\n",
              "        [0.        ],\n",
              "        [0.        ],\n",
              "        [0.        ],\n",
              "        [0.        ],\n",
              "        [0.        ],\n",
              "        [0.        ],\n",
              "        [0.01568628],\n",
              "        [0.        ],\n",
              "        [0.        ],\n",
              "        [0.21568628],\n",
              "        [0.9254902 ],\n",
              "        [0.89411765],\n",
              "        [0.9019608 ],\n",
              "        [0.89411765],\n",
              "        [0.9411765 ],\n",
              "        [0.9098039 ],\n",
              "        [0.8352941 ],\n",
              "        [0.85490197],\n",
              "        [0.8745098 ],\n",
              "        [0.91764706],\n",
              "        [0.8509804 ],\n",
              "        [0.8509804 ],\n",
              "        [0.81960785],\n",
              "        [0.36078432],\n",
              "        [0.        ]],\n",
              "\n",
              "       [[0.        ],\n",
              "        [0.        ],\n",
              "        [0.00392157],\n",
              "        [0.01568628],\n",
              "        [0.02352941],\n",
              "        [0.02745098],\n",
              "        [0.00784314],\n",
              "        [0.        ],\n",
              "        [0.        ],\n",
              "        [0.        ],\n",
              "        [0.        ],\n",
              "        [0.        ],\n",
              "        [0.92941177],\n",
              "        [0.8862745 ],\n",
              "        [0.8509804 ],\n",
              "        [0.8745098 ],\n",
              "        [0.87058824],\n",
              "        [0.85882354],\n",
              "        [0.87058824],\n",
              "        [0.8666667 ],\n",
              "        [0.84705883],\n",
              "        [0.8745098 ],\n",
              "        [0.8980392 ],\n",
              "        [0.84313726],\n",
              "        [0.85490197],\n",
              "        [1.        ],\n",
              "        [0.3019608 ],\n",
              "        [0.        ]],\n",
              "\n",
              "       [[0.        ],\n",
              "        [0.01176471],\n",
              "        [0.        ],\n",
              "        [0.        ],\n",
              "        [0.        ],\n",
              "        [0.        ],\n",
              "        [0.        ],\n",
              "        [0.        ],\n",
              "        [0.        ],\n",
              "        [0.24313726],\n",
              "        [0.5686275 ],\n",
              "        [0.8       ],\n",
              "        [0.89411765],\n",
              "        [0.8117647 ],\n",
              "        [0.8352941 ],\n",
              "        [0.8666667 ],\n",
              "        [0.85490197],\n",
              "        [0.8156863 ],\n",
              "        [0.827451  ],\n",
              "        [0.85490197],\n",
              "        [0.8784314 ],\n",
              "        [0.8745098 ],\n",
              "        [0.85882354],\n",
              "        [0.84313726],\n",
              "        [0.8784314 ],\n",
              "        [0.95686275],\n",
              "        [0.62352943],\n",
              "        [0.        ]],\n",
              "\n",
              "       [[0.        ],\n",
              "        [0.        ],\n",
              "        [0.        ],\n",
              "        [0.        ],\n",
              "        [0.07058824],\n",
              "        [0.17254902],\n",
              "        [0.32156864],\n",
              "        [0.41960785],\n",
              "        [0.7411765 ],\n",
              "        [0.89411765],\n",
              "        [0.8627451 ],\n",
              "        [0.87058824],\n",
              "        [0.8509804 ],\n",
              "        [0.8862745 ],\n",
              "        [0.78431374],\n",
              "        [0.8039216 ],\n",
              "        [0.827451  ],\n",
              "        [0.9019608 ],\n",
              "        [0.8784314 ],\n",
              "        [0.91764706],\n",
              "        [0.6901961 ],\n",
              "        [0.7372549 ],\n",
              "        [0.98039216],\n",
              "        [0.972549  ],\n",
              "        [0.9137255 ],\n",
              "        [0.93333334],\n",
              "        [0.84313726],\n",
              "        [0.        ]],\n",
              "\n",
              "       [[0.        ],\n",
              "        [0.22352941],\n",
              "        [0.73333335],\n",
              "        [0.8156863 ],\n",
              "        [0.8784314 ],\n",
              "        [0.8666667 ],\n",
              "        [0.8784314 ],\n",
              "        [0.8156863 ],\n",
              "        [0.8       ],\n",
              "        [0.8392157 ],\n",
              "        [0.8156863 ],\n",
              "        [0.81960785],\n",
              "        [0.78431374],\n",
              "        [0.62352943],\n",
              "        [0.9607843 ],\n",
              "        [0.75686276],\n",
              "        [0.80784315],\n",
              "        [0.8745098 ],\n",
              "        [1.        ],\n",
              "        [1.        ],\n",
              "        [0.8666667 ],\n",
              "        [0.91764706],\n",
              "        [0.8666667 ],\n",
              "        [0.827451  ],\n",
              "        [0.8627451 ],\n",
              "        [0.9098039 ],\n",
              "        [0.9647059 ],\n",
              "        [0.        ]],\n",
              "\n",
              "       [[0.01176471],\n",
              "        [0.7921569 ],\n",
              "        [0.89411765],\n",
              "        [0.8784314 ],\n",
              "        [0.8666667 ],\n",
              "        [0.827451  ],\n",
              "        [0.827451  ],\n",
              "        [0.8392157 ],\n",
              "        [0.8039216 ],\n",
              "        [0.8039216 ],\n",
              "        [0.8039216 ],\n",
              "        [0.8627451 ],\n",
              "        [0.9411765 ],\n",
              "        [0.3137255 ],\n",
              "        [0.5882353 ],\n",
              "        [1.        ],\n",
              "        [0.8980392 ],\n",
              "        [0.8666667 ],\n",
              "        [0.7372549 ],\n",
              "        [0.6039216 ],\n",
              "        [0.7490196 ],\n",
              "        [0.8235294 ],\n",
              "        [0.8       ],\n",
              "        [0.81960785],\n",
              "        [0.87058824],\n",
              "        [0.89411765],\n",
              "        [0.88235295],\n",
              "        [0.        ]],\n",
              "\n",
              "       [[0.38431373],\n",
              "        [0.9137255 ],\n",
              "        [0.7764706 ],\n",
              "        [0.8235294 ],\n",
              "        [0.87058824],\n",
              "        [0.8980392 ],\n",
              "        [0.8980392 ],\n",
              "        [0.91764706],\n",
              "        [0.9764706 ],\n",
              "        [0.8627451 ],\n",
              "        [0.7607843 ],\n",
              "        [0.84313726],\n",
              "        [0.8509804 ],\n",
              "        [0.94509804],\n",
              "        [0.25490198],\n",
              "        [0.28627452],\n",
              "        [0.41568628],\n",
              "        [0.45882353],\n",
              "        [0.65882355],\n",
              "        [0.85882354],\n",
              "        [0.8666667 ],\n",
              "        [0.84313726],\n",
              "        [0.8509804 ],\n",
              "        [0.8745098 ],\n",
              "        [0.8745098 ],\n",
              "        [0.8784314 ],\n",
              "        [0.8980392 ],\n",
              "        [0.11372549]],\n",
              "\n",
              "       [[0.29411766],\n",
              "        [0.8       ],\n",
              "        [0.83137256],\n",
              "        [0.8       ],\n",
              "        [0.75686276],\n",
              "        [0.8039216 ],\n",
              "        [0.827451  ],\n",
              "        [0.88235295],\n",
              "        [0.84705883],\n",
              "        [0.7254902 ],\n",
              "        [0.77254903],\n",
              "        [0.80784315],\n",
              "        [0.7764706 ],\n",
              "        [0.8352941 ],\n",
              "        [0.9411765 ],\n",
              "        [0.7647059 ],\n",
              "        [0.8901961 ],\n",
              "        [0.9607843 ],\n",
              "        [0.9372549 ],\n",
              "        [0.8745098 ],\n",
              "        [0.85490197],\n",
              "        [0.83137256],\n",
              "        [0.81960785],\n",
              "        [0.87058824],\n",
              "        [0.8627451 ],\n",
              "        [0.8666667 ],\n",
              "        [0.9019608 ],\n",
              "        [0.2627451 ]],\n",
              "\n",
              "       [[0.1882353 ],\n",
              "        [0.79607844],\n",
              "        [0.7176471 ],\n",
              "        [0.7607843 ],\n",
              "        [0.8352941 ],\n",
              "        [0.77254903],\n",
              "        [0.7254902 ],\n",
              "        [0.74509805],\n",
              "        [0.7607843 ],\n",
              "        [0.7529412 ],\n",
              "        [0.7921569 ],\n",
              "        [0.8392157 ],\n",
              "        [0.85882354],\n",
              "        [0.8666667 ],\n",
              "        [0.8627451 ],\n",
              "        [0.9254902 ],\n",
              "        [0.88235295],\n",
              "        [0.84705883],\n",
              "        [0.78039217],\n",
              "        [0.80784315],\n",
              "        [0.7294118 ],\n",
              "        [0.70980394],\n",
              "        [0.69411767],\n",
              "        [0.6745098 ],\n",
              "        [0.70980394],\n",
              "        [0.8039216 ],\n",
              "        [0.80784315],\n",
              "        [0.4509804 ]],\n",
              "\n",
              "       [[0.        ],\n",
              "        [0.47843137],\n",
              "        [0.85882354],\n",
              "        [0.75686276],\n",
              "        [0.7019608 ],\n",
              "        [0.67058825],\n",
              "        [0.7176471 ],\n",
              "        [0.76862746],\n",
              "        [0.8       ],\n",
              "        [0.8235294 ],\n",
              "        [0.8352941 ],\n",
              "        [0.8117647 ],\n",
              "        [0.827451  ],\n",
              "        [0.8235294 ],\n",
              "        [0.78431374],\n",
              "        [0.76862746],\n",
              "        [0.7607843 ],\n",
              "        [0.7490196 ],\n",
              "        [0.7647059 ],\n",
              "        [0.7490196 ],\n",
              "        [0.7764706 ],\n",
              "        [0.7529412 ],\n",
              "        [0.6901961 ],\n",
              "        [0.6117647 ],\n",
              "        [0.654902  ],\n",
              "        [0.69411767],\n",
              "        [0.8235294 ],\n",
              "        [0.36078432]],\n",
              "\n",
              "       [[0.        ],\n",
              "        [0.        ],\n",
              "        [0.2901961 ],\n",
              "        [0.7411765 ],\n",
              "        [0.83137256],\n",
              "        [0.7490196 ],\n",
              "        [0.6862745 ],\n",
              "        [0.6745098 ],\n",
              "        [0.6862745 ],\n",
              "        [0.70980394],\n",
              "        [0.7254902 ],\n",
              "        [0.7372549 ],\n",
              "        [0.7411765 ],\n",
              "        [0.7372549 ],\n",
              "        [0.75686276],\n",
              "        [0.7764706 ],\n",
              "        [0.8       ],\n",
              "        [0.81960785],\n",
              "        [0.8235294 ],\n",
              "        [0.8235294 ],\n",
              "        [0.827451  ],\n",
              "        [0.7372549 ],\n",
              "        [0.7372549 ],\n",
              "        [0.7607843 ],\n",
              "        [0.7529412 ],\n",
              "        [0.84705883],\n",
              "        [0.6666667 ],\n",
              "        [0.        ]],\n",
              "\n",
              "       [[0.00784314],\n",
              "        [0.        ],\n",
              "        [0.        ],\n",
              "        [0.        ],\n",
              "        [0.25882354],\n",
              "        [0.78431374],\n",
              "        [0.87058824],\n",
              "        [0.92941177],\n",
              "        [0.9372549 ],\n",
              "        [0.9490196 ],\n",
              "        [0.9647059 ],\n",
              "        [0.9529412 ],\n",
              "        [0.95686275],\n",
              "        [0.8666667 ],\n",
              "        [0.8627451 ],\n",
              "        [0.75686276],\n",
              "        [0.7490196 ],\n",
              "        [0.7019608 ],\n",
              "        [0.7137255 ],\n",
              "        [0.7137255 ],\n",
              "        [0.70980394],\n",
              "        [0.6901961 ],\n",
              "        [0.6509804 ],\n",
              "        [0.65882355],\n",
              "        [0.3882353 ],\n",
              "        [0.22745098],\n",
              "        [0.        ],\n",
              "        [0.        ]],\n",
              "\n",
              "       [[0.        ],\n",
              "        [0.        ],\n",
              "        [0.        ],\n",
              "        [0.        ],\n",
              "        [0.        ],\n",
              "        [0.        ],\n",
              "        [0.        ],\n",
              "        [0.15686275],\n",
              "        [0.23921569],\n",
              "        [0.17254902],\n",
              "        [0.28235295],\n",
              "        [0.16078432],\n",
              "        [0.13725491],\n",
              "        [0.        ],\n",
              "        [0.        ],\n",
              "        [0.        ],\n",
              "        [0.        ],\n",
              "        [0.        ],\n",
              "        [0.        ],\n",
              "        [0.        ],\n",
              "        [0.        ],\n",
              "        [0.        ],\n",
              "        [0.        ],\n",
              "        [0.        ],\n",
              "        [0.        ],\n",
              "        [0.        ],\n",
              "        [0.        ],\n",
              "        [0.        ]],\n",
              "\n",
              "       [[0.        ],\n",
              "        [0.        ],\n",
              "        [0.        ],\n",
              "        [0.        ],\n",
              "        [0.        ],\n",
              "        [0.        ],\n",
              "        [0.        ],\n",
              "        [0.        ],\n",
              "        [0.        ],\n",
              "        [0.        ],\n",
              "        [0.        ],\n",
              "        [0.        ],\n",
              "        [0.        ],\n",
              "        [0.        ],\n",
              "        [0.        ],\n",
              "        [0.        ],\n",
              "        [0.        ],\n",
              "        [0.        ],\n",
              "        [0.        ],\n",
              "        [0.        ],\n",
              "        [0.        ],\n",
              "        [0.        ],\n",
              "        [0.        ],\n",
              "        [0.        ],\n",
              "        [0.        ],\n",
              "        [0.        ],\n",
              "        [0.        ],\n",
              "        [0.        ]],\n",
              "\n",
              "       [[0.        ],\n",
              "        [0.        ],\n",
              "        [0.        ],\n",
              "        [0.        ],\n",
              "        [0.        ],\n",
              "        [0.        ],\n",
              "        [0.        ],\n",
              "        [0.        ],\n",
              "        [0.        ],\n",
              "        [0.        ],\n",
              "        [0.        ],\n",
              "        [0.        ],\n",
              "        [0.        ],\n",
              "        [0.        ],\n",
              "        [0.        ],\n",
              "        [0.        ],\n",
              "        [0.        ],\n",
              "        [0.        ],\n",
              "        [0.        ],\n",
              "        [0.        ],\n",
              "        [0.        ],\n",
              "        [0.        ],\n",
              "        [0.        ],\n",
              "        [0.        ],\n",
              "        [0.        ],\n",
              "        [0.        ],\n",
              "        [0.        ],\n",
              "        [0.        ]]], dtype=float32)"
            ]
          },
          "metadata": {},
          "execution_count": 14
        }
      ]
    },
    {
      "cell_type": "code",
      "source": [
        "num_classes = 10\n",
        "#here num_classes is number of output classes\n",
        "input_shape = (28,28,1)"
      ],
      "metadata": {
        "id": "pSGT72o9YwXW"
      },
      "execution_count": 15,
      "outputs": []
    },
    {
      "cell_type": "code",
      "source": [
        "model = keras.Sequential(\n",
        "    [\n",
        "     #defining 1st input layer\n",
        "     keras.layers.Input(shape = input_shape),\n",
        "     #defining CNN with relu 2 layers 64 filters\n",
        "     keras.layers.Conv2D(64, kernel_size = (3,3), activation = 'relu'),\n",
        "     keras.layers.Conv2D(64, kernel_size = (3,3), activation = 'relu'),\n",
        "     #Max pooling\n",
        "     keras.layers.MaxPooling2D(pool_size = (2,2)),\n",
        "     #defining CNN with relu 2 layers 128 filters\n",
        "     keras.layers.Conv2D(128, kernel_size = (3,3), activation = 'relu'),\n",
        "     keras.layers.Conv2D(128, kernel_size = (3,3), activation = 'relu'),\n",
        "     #average pooling\n",
        "     keras.layers.GlobalAveragePooling2D(),\n",
        "     #dropout\n",
        "     keras.layers.Dropout(0.5),\n",
        "     #full CNN connected to last dense layer with softmax\n",
        "     keras.layers.Dense(num_classes, activation = 'softmax'),\n",
        "     ]\n",
        ")"
      ],
      "metadata": {
        "id": "91ROiPlTZftA"
      },
      "execution_count": 16,
      "outputs": []
    },
    {
      "cell_type": "code",
      "source": [
        "model.summary()"
      ],
      "metadata": {
        "colab": {
          "base_uri": "https://localhost:8080/",
          "height": 442
        },
        "id": "mHlzQCeergCI",
        "outputId": "d88da302-fd43-4ab3-d087-af51427f1b9b"
      },
      "execution_count": 17,
      "outputs": [
        {
          "output_type": "display_data",
          "data": {
            "text/plain": [
              "\u001b[1mModel: \"sequential\"\u001b[0m\n"
            ],
            "text/html": [
              "<pre style=\"white-space:pre;overflow-x:auto;line-height:normal;font-family:Menlo,'DejaVu Sans Mono',consolas,'Courier New',monospace\"><span style=\"font-weight: bold\">Model: \"sequential\"</span>\n",
              "</pre>\n"
            ]
          },
          "metadata": {}
        },
        {
          "output_type": "display_data",
          "data": {
            "text/plain": [
              "┏━━━━━━━━━━━━━━━━━━━━━━━━━━━━━━━━━━━━━━┳━━━━━━━━━━━━━━━━━━━━━━━━━━━━━┳━━━━━━━━━━━━━━━━━┓\n",
              "┃\u001b[1m \u001b[0m\u001b[1mLayer (type)                        \u001b[0m\u001b[1m \u001b[0m┃\u001b[1m \u001b[0m\u001b[1mOutput Shape               \u001b[0m\u001b[1m \u001b[0m┃\u001b[1m \u001b[0m\u001b[1m        Param #\u001b[0m\u001b[1m \u001b[0m┃\n",
              "┡━━━━━━━━━━━━━━━━━━━━━━━━━━━━━━━━━━━━━━╇━━━━━━━━━━━━━━━━━━━━━━━━━━━━━╇━━━━━━━━━━━━━━━━━┩\n",
              "│ conv2d (\u001b[38;5;33mConv2D\u001b[0m)                      │ (\u001b[38;5;45mNone\u001b[0m, \u001b[38;5;34m26\u001b[0m, \u001b[38;5;34m26\u001b[0m, \u001b[38;5;34m64\u001b[0m)          │             \u001b[38;5;34m640\u001b[0m │\n",
              "├──────────────────────────────────────┼─────────────────────────────┼─────────────────┤\n",
              "│ conv2d_1 (\u001b[38;5;33mConv2D\u001b[0m)                    │ (\u001b[38;5;45mNone\u001b[0m, \u001b[38;5;34m24\u001b[0m, \u001b[38;5;34m24\u001b[0m, \u001b[38;5;34m64\u001b[0m)          │          \u001b[38;5;34m36,928\u001b[0m │\n",
              "├──────────────────────────────────────┼─────────────────────────────┼─────────────────┤\n",
              "│ max_pooling2d (\u001b[38;5;33mMaxPooling2D\u001b[0m)         │ (\u001b[38;5;45mNone\u001b[0m, \u001b[38;5;34m12\u001b[0m, \u001b[38;5;34m12\u001b[0m, \u001b[38;5;34m64\u001b[0m)          │               \u001b[38;5;34m0\u001b[0m │\n",
              "├──────────────────────────────────────┼─────────────────────────────┼─────────────────┤\n",
              "│ conv2d_2 (\u001b[38;5;33mConv2D\u001b[0m)                    │ (\u001b[38;5;45mNone\u001b[0m, \u001b[38;5;34m10\u001b[0m, \u001b[38;5;34m10\u001b[0m, \u001b[38;5;34m128\u001b[0m)         │          \u001b[38;5;34m73,856\u001b[0m │\n",
              "├──────────────────────────────────────┼─────────────────────────────┼─────────────────┤\n",
              "│ conv2d_3 (\u001b[38;5;33mConv2D\u001b[0m)                    │ (\u001b[38;5;45mNone\u001b[0m, \u001b[38;5;34m8\u001b[0m, \u001b[38;5;34m8\u001b[0m, \u001b[38;5;34m128\u001b[0m)           │         \u001b[38;5;34m147,584\u001b[0m │\n",
              "├──────────────────────────────────────┼─────────────────────────────┼─────────────────┤\n",
              "│ global_average_pooling2d             │ (\u001b[38;5;45mNone\u001b[0m, \u001b[38;5;34m128\u001b[0m)                 │               \u001b[38;5;34m0\u001b[0m │\n",
              "│ (\u001b[38;5;33mGlobalAveragePooling2D\u001b[0m)             │                             │                 │\n",
              "├──────────────────────────────────────┼─────────────────────────────┼─────────────────┤\n",
              "│ dropout (\u001b[38;5;33mDropout\u001b[0m)                    │ (\u001b[38;5;45mNone\u001b[0m, \u001b[38;5;34m128\u001b[0m)                 │               \u001b[38;5;34m0\u001b[0m │\n",
              "├──────────────────────────────────────┼─────────────────────────────┼─────────────────┤\n",
              "│ dense (\u001b[38;5;33mDense\u001b[0m)                        │ (\u001b[38;5;45mNone\u001b[0m, \u001b[38;5;34m10\u001b[0m)                  │           \u001b[38;5;34m1,290\u001b[0m │\n",
              "└──────────────────────────────────────┴─────────────────────────────┴─────────────────┘\n"
            ],
            "text/html": [
              "<pre style=\"white-space:pre;overflow-x:auto;line-height:normal;font-family:Menlo,'DejaVu Sans Mono',consolas,'Courier New',monospace\">┏━━━━━━━━━━━━━━━━━━━━━━━━━━━━━━━━━━━━━━┳━━━━━━━━━━━━━━━━━━━━━━━━━━━━━┳━━━━━━━━━━━━━━━━━┓\n",
              "┃<span style=\"font-weight: bold\"> Layer (type)                         </span>┃<span style=\"font-weight: bold\"> Output Shape                </span>┃<span style=\"font-weight: bold\">         Param # </span>┃\n",
              "┡━━━━━━━━━━━━━━━━━━━━━━━━━━━━━━━━━━━━━━╇━━━━━━━━━━━━━━━━━━━━━━━━━━━━━╇━━━━━━━━━━━━━━━━━┩\n",
              "│ conv2d (<span style=\"color: #0087ff; text-decoration-color: #0087ff\">Conv2D</span>)                      │ (<span style=\"color: #00d7ff; text-decoration-color: #00d7ff\">None</span>, <span style=\"color: #00af00; text-decoration-color: #00af00\">26</span>, <span style=\"color: #00af00; text-decoration-color: #00af00\">26</span>, <span style=\"color: #00af00; text-decoration-color: #00af00\">64</span>)          │             <span style=\"color: #00af00; text-decoration-color: #00af00\">640</span> │\n",
              "├──────────────────────────────────────┼─────────────────────────────┼─────────────────┤\n",
              "│ conv2d_1 (<span style=\"color: #0087ff; text-decoration-color: #0087ff\">Conv2D</span>)                    │ (<span style=\"color: #00d7ff; text-decoration-color: #00d7ff\">None</span>, <span style=\"color: #00af00; text-decoration-color: #00af00\">24</span>, <span style=\"color: #00af00; text-decoration-color: #00af00\">24</span>, <span style=\"color: #00af00; text-decoration-color: #00af00\">64</span>)          │          <span style=\"color: #00af00; text-decoration-color: #00af00\">36,928</span> │\n",
              "├──────────────────────────────────────┼─────────────────────────────┼─────────────────┤\n",
              "│ max_pooling2d (<span style=\"color: #0087ff; text-decoration-color: #0087ff\">MaxPooling2D</span>)         │ (<span style=\"color: #00d7ff; text-decoration-color: #00d7ff\">None</span>, <span style=\"color: #00af00; text-decoration-color: #00af00\">12</span>, <span style=\"color: #00af00; text-decoration-color: #00af00\">12</span>, <span style=\"color: #00af00; text-decoration-color: #00af00\">64</span>)          │               <span style=\"color: #00af00; text-decoration-color: #00af00\">0</span> │\n",
              "├──────────────────────────────────────┼─────────────────────────────┼─────────────────┤\n",
              "│ conv2d_2 (<span style=\"color: #0087ff; text-decoration-color: #0087ff\">Conv2D</span>)                    │ (<span style=\"color: #00d7ff; text-decoration-color: #00d7ff\">None</span>, <span style=\"color: #00af00; text-decoration-color: #00af00\">10</span>, <span style=\"color: #00af00; text-decoration-color: #00af00\">10</span>, <span style=\"color: #00af00; text-decoration-color: #00af00\">128</span>)         │          <span style=\"color: #00af00; text-decoration-color: #00af00\">73,856</span> │\n",
              "├──────────────────────────────────────┼─────────────────────────────┼─────────────────┤\n",
              "│ conv2d_3 (<span style=\"color: #0087ff; text-decoration-color: #0087ff\">Conv2D</span>)                    │ (<span style=\"color: #00d7ff; text-decoration-color: #00d7ff\">None</span>, <span style=\"color: #00af00; text-decoration-color: #00af00\">8</span>, <span style=\"color: #00af00; text-decoration-color: #00af00\">8</span>, <span style=\"color: #00af00; text-decoration-color: #00af00\">128</span>)           │         <span style=\"color: #00af00; text-decoration-color: #00af00\">147,584</span> │\n",
              "├──────────────────────────────────────┼─────────────────────────────┼─────────────────┤\n",
              "│ global_average_pooling2d             │ (<span style=\"color: #00d7ff; text-decoration-color: #00d7ff\">None</span>, <span style=\"color: #00af00; text-decoration-color: #00af00\">128</span>)                 │               <span style=\"color: #00af00; text-decoration-color: #00af00\">0</span> │\n",
              "│ (<span style=\"color: #0087ff; text-decoration-color: #0087ff\">GlobalAveragePooling2D</span>)             │                             │                 │\n",
              "├──────────────────────────────────────┼─────────────────────────────┼─────────────────┤\n",
              "│ dropout (<span style=\"color: #0087ff; text-decoration-color: #0087ff\">Dropout</span>)                    │ (<span style=\"color: #00d7ff; text-decoration-color: #00d7ff\">None</span>, <span style=\"color: #00af00; text-decoration-color: #00af00\">128</span>)                 │               <span style=\"color: #00af00; text-decoration-color: #00af00\">0</span> │\n",
              "├──────────────────────────────────────┼─────────────────────────────┼─────────────────┤\n",
              "│ dense (<span style=\"color: #0087ff; text-decoration-color: #0087ff\">Dense</span>)                        │ (<span style=\"color: #00d7ff; text-decoration-color: #00d7ff\">None</span>, <span style=\"color: #00af00; text-decoration-color: #00af00\">10</span>)                  │           <span style=\"color: #00af00; text-decoration-color: #00af00\">1,290</span> │\n",
              "└──────────────────────────────────────┴─────────────────────────────┴─────────────────┘\n",
              "</pre>\n"
            ]
          },
          "metadata": {}
        },
        {
          "output_type": "display_data",
          "data": {
            "text/plain": [
              "\u001b[1m Total params: \u001b[0m\u001b[38;5;34m260,298\u001b[0m (1016.79 KB)\n"
            ],
            "text/html": [
              "<pre style=\"white-space:pre;overflow-x:auto;line-height:normal;font-family:Menlo,'DejaVu Sans Mono',consolas,'Courier New',monospace\"><span style=\"font-weight: bold\"> Total params: </span><span style=\"color: #00af00; text-decoration-color: #00af00\">260,298</span> (1016.79 KB)\n",
              "</pre>\n"
            ]
          },
          "metadata": {}
        },
        {
          "output_type": "display_data",
          "data": {
            "text/plain": [
              "\u001b[1m Trainable params: \u001b[0m\u001b[38;5;34m260,298\u001b[0m (1016.79 KB)\n"
            ],
            "text/html": [
              "<pre style=\"white-space:pre;overflow-x:auto;line-height:normal;font-family:Menlo,'DejaVu Sans Mono',consolas,'Courier New',monospace\"><span style=\"font-weight: bold\"> Trainable params: </span><span style=\"color: #00af00; text-decoration-color: #00af00\">260,298</span> (1016.79 KB)\n",
              "</pre>\n"
            ]
          },
          "metadata": {}
        },
        {
          "output_type": "display_data",
          "data": {
            "text/plain": [
              "\u001b[1m Non-trainable params: \u001b[0m\u001b[38;5;34m0\u001b[0m (0.00 B)\n"
            ],
            "text/html": [
              "<pre style=\"white-space:pre;overflow-x:auto;line-height:normal;font-family:Menlo,'DejaVu Sans Mono',consolas,'Courier New',monospace\"><span style=\"font-weight: bold\"> Non-trainable params: </span><span style=\"color: #00af00; text-decoration-color: #00af00\">0</span> (0.00 B)\n",
              "</pre>\n"
            ]
          },
          "metadata": {}
        }
      ]
    },
    {
      "cell_type": "code",
      "source": [
        "model.compile(\n",
        "              loss = keras.losses.SparseCategoricalCrossentropy(),\n",
        "              optimizer = keras.optimizers.Adam(learning_rate = 0.001),\n",
        "              metrics = [\n",
        "                  keras.metrics.SparseCategoricalAccuracy(name = 'categ'), 'accuracy'\n",
        "              ])"
      ],
      "metadata": {
        "id": "KYLQM10SsKyN"
      },
      "execution_count": 18,
      "outputs": []
    },
    {
      "cell_type": "markdown",
      "source": [
        "**fitting model**"
      ],
      "metadata": {
        "id": "UbqSEnbAz13R"
      }
    },
    {
      "cell_type": "code",
      "source": [
        "callbacks = [\n",
        "    keras.callbacks.ModelCheckpoint(\"save_at_{epoch}.keras\"),\n",
        "    keras.callbacks.EarlyStopping(patience = 2, monitor = 'val_loss'),\n",
        "]\n",
        "history = model.fit(X_train, y_train, batch_size = 128, epochs = 20, validation_split = 0.15, callbacks = callbacks)"
      ],
      "metadata": {
        "colab": {
          "base_uri": "https://localhost:8080/"
        },
        "id": "5A1vfaNSnAr8",
        "outputId": "ccf98205-e02d-4b7c-bd0e-abe3bee5b994"
      },
      "execution_count": 20,
      "outputs": [
        {
          "output_type": "stream",
          "name": "stdout",
          "text": [
            "Epoch 1/20\n",
            "\u001b[1m399/399\u001b[0m \u001b[32m━━━━━━━━━━━━━━━━━━━━\u001b[0m\u001b[37m\u001b[0m \u001b[1m7s\u001b[0m 17ms/step - accuracy: 0.8491 - categ: 0.8491 - loss: 0.4199 - val_accuracy: 0.8749 - val_categ: 0.8749 - val_loss: 0.3426\n",
            "Epoch 2/20\n",
            "\u001b[1m399/399\u001b[0m \u001b[32m━━━━━━━━━━━━━━━━━━━━\u001b[0m\u001b[37m\u001b[0m \u001b[1m5s\u001b[0m 11ms/step - accuracy: 0.8597 - categ: 0.8597 - loss: 0.3866 - val_accuracy: 0.8841 - val_categ: 0.8841 - val_loss: 0.3240\n",
            "Epoch 3/20\n",
            "\u001b[1m399/399\u001b[0m \u001b[32m━━━━━━━━━━━━━━━━━━━━\u001b[0m\u001b[37m\u001b[0m \u001b[1m5s\u001b[0m 12ms/step - accuracy: 0.8688 - categ: 0.8688 - loss: 0.3737 - val_accuracy: 0.8770 - val_categ: 0.8770 - val_loss: 0.3315\n",
            "Epoch 4/20\n",
            "\u001b[1m399/399\u001b[0m \u001b[32m━━━━━━━━━━━━━━━━━━━━\u001b[0m\u001b[37m\u001b[0m \u001b[1m5s\u001b[0m 11ms/step - accuracy: 0.8730 - categ: 0.8730 - loss: 0.3581 - val_accuracy: 0.8924 - val_categ: 0.8924 - val_loss: 0.2923\n",
            "Epoch 5/20\n",
            "\u001b[1m399/399\u001b[0m \u001b[32m━━━━━━━━━━━━━━━━━━━━\u001b[0m\u001b[37m\u001b[0m \u001b[1m5s\u001b[0m 12ms/step - accuracy: 0.8807 - categ: 0.8807 - loss: 0.3419 - val_accuracy: 0.8920 - val_categ: 0.8920 - val_loss: 0.2900\n",
            "Epoch 6/20\n",
            "\u001b[1m399/399\u001b[0m \u001b[32m━━━━━━━━━━━━━━━━━━━━\u001b[0m\u001b[37m\u001b[0m \u001b[1m5s\u001b[0m 11ms/step - accuracy: 0.8824 - categ: 0.8824 - loss: 0.3316 - val_accuracy: 0.8883 - val_categ: 0.8883 - val_loss: 0.2993\n",
            "Epoch 7/20\n",
            "\u001b[1m399/399\u001b[0m \u001b[32m━━━━━━━━━━━━━━━━━━━━\u001b[0m\u001b[37m\u001b[0m \u001b[1m5s\u001b[0m 13ms/step - accuracy: 0.8912 - categ: 0.8912 - loss: 0.3083 - val_accuracy: 0.9030 - val_categ: 0.9030 - val_loss: 0.2750\n",
            "Epoch 8/20\n",
            "\u001b[1m399/399\u001b[0m \u001b[32m━━━━━━━━━━━━━━━━━━━━\u001b[0m\u001b[37m\u001b[0m \u001b[1m5s\u001b[0m 12ms/step - accuracy: 0.8892 - categ: 0.8892 - loss: 0.3108 - val_accuracy: 0.9011 - val_categ: 0.9011 - val_loss: 0.2675\n",
            "Epoch 9/20\n",
            "\u001b[1m399/399\u001b[0m \u001b[32m━━━━━━━━━━━━━━━━━━━━\u001b[0m\u001b[37m\u001b[0m \u001b[1m5s\u001b[0m 11ms/step - accuracy: 0.8943 - categ: 0.8943 - loss: 0.2939 - val_accuracy: 0.9054 - val_categ: 0.9054 - val_loss: 0.2618\n",
            "Epoch 10/20\n",
            "\u001b[1m399/399\u001b[0m \u001b[32m━━━━━━━━━━━━━━━━━━━━\u001b[0m\u001b[37m\u001b[0m \u001b[1m5s\u001b[0m 12ms/step - accuracy: 0.8959 - categ: 0.8959 - loss: 0.2880 - val_accuracy: 0.9061 - val_categ: 0.9061 - val_loss: 0.2561\n",
            "Epoch 11/20\n",
            "\u001b[1m399/399\u001b[0m \u001b[32m━━━━━━━━━━━━━━━━━━━━\u001b[0m\u001b[37m\u001b[0m \u001b[1m5s\u001b[0m 11ms/step - accuracy: 0.9008 - categ: 0.9008 - loss: 0.2805 - val_accuracy: 0.9064 - val_categ: 0.9064 - val_loss: 0.2495\n",
            "Epoch 12/20\n",
            "\u001b[1m399/399\u001b[0m \u001b[32m━━━━━━━━━━━━━━━━━━━━\u001b[0m\u001b[37m\u001b[0m \u001b[1m5s\u001b[0m 11ms/step - accuracy: 0.9047 - categ: 0.9047 - loss: 0.2717 - val_accuracy: 0.9112 - val_categ: 0.9112 - val_loss: 0.2440\n",
            "Epoch 13/20\n",
            "\u001b[1m399/399\u001b[0m \u001b[32m━━━━━━━━━━━━━━━━━━━━\u001b[0m\u001b[37m\u001b[0m \u001b[1m5s\u001b[0m 12ms/step - accuracy: 0.9048 - categ: 0.9048 - loss: 0.2660 - val_accuracy: 0.9109 - val_categ: 0.9109 - val_loss: 0.2513\n",
            "Epoch 14/20\n",
            "\u001b[1m399/399\u001b[0m \u001b[32m━━━━━━━━━━━━━━━━━━━━\u001b[0m\u001b[37m\u001b[0m \u001b[1m4s\u001b[0m 11ms/step - accuracy: 0.9087 - categ: 0.9087 - loss: 0.2588 - val_accuracy: 0.9142 - val_categ: 0.9142 - val_loss: 0.2373\n",
            "Epoch 15/20\n",
            "\u001b[1m399/399\u001b[0m \u001b[32m━━━━━━━━━━━━━━━━━━━━\u001b[0m\u001b[37m\u001b[0m \u001b[1m5s\u001b[0m 12ms/step - accuracy: 0.9071 - categ: 0.9071 - loss: 0.2600 - val_accuracy: 0.9128 - val_categ: 0.9128 - val_loss: 0.2445\n",
            "Epoch 16/20\n",
            "\u001b[1m399/399\u001b[0m \u001b[32m━━━━━━━━━━━━━━━━━━━━\u001b[0m\u001b[37m\u001b[0m \u001b[1m5s\u001b[0m 13ms/step - accuracy: 0.9101 - categ: 0.9101 - loss: 0.2491 - val_accuracy: 0.9133 - val_categ: 0.9133 - val_loss: 0.2352\n",
            "Epoch 17/20\n",
            "\u001b[1m399/399\u001b[0m \u001b[32m━━━━━━━━━━━━━━━━━━━━\u001b[0m\u001b[37m\u001b[0m \u001b[1m5s\u001b[0m 11ms/step - accuracy: 0.9132 - categ: 0.9132 - loss: 0.2432 - val_accuracy: 0.9157 - val_categ: 0.9157 - val_loss: 0.2276\n",
            "Epoch 18/20\n",
            "\u001b[1m399/399\u001b[0m \u001b[32m━━━━━━━━━━━━━━━━━━━━\u001b[0m\u001b[37m\u001b[0m \u001b[1m5s\u001b[0m 12ms/step - accuracy: 0.9148 - categ: 0.9148 - loss: 0.2380 - val_accuracy: 0.9149 - val_categ: 0.9149 - val_loss: 0.2372\n",
            "Epoch 19/20\n",
            "\u001b[1m399/399\u001b[0m \u001b[32m━━━━━━━━━━━━━━━━━━━━\u001b[0m\u001b[37m\u001b[0m \u001b[1m4s\u001b[0m 11ms/step - accuracy: 0.9138 - categ: 0.9138 - loss: 0.2382 - val_accuracy: 0.9173 - val_categ: 0.9173 - val_loss: 0.2248\n",
            "Epoch 20/20\n",
            "\u001b[1m399/399\u001b[0m \u001b[32m━━━━━━━━━━━━━━━━━━━━\u001b[0m\u001b[37m\u001b[0m \u001b[1m5s\u001b[0m 12ms/step - accuracy: 0.9186 - categ: 0.9186 - loss: 0.2236 - val_accuracy: 0.9186 - val_categ: 0.9186 - val_loss: 0.2226\n"
          ]
        }
      ]
    },
    {
      "cell_type": "code",
      "source": [
        "model.save('final_mnist_model.keras')"
      ],
      "metadata": {
        "id": "XetiTLgP060e"
      },
      "execution_count": 21,
      "outputs": []
    },
    {
      "cell_type": "code",
      "source": [
        "plt.plot(history.history['accuracy'])\n",
        "plt.plot(history.history['val_accuracy'])\n",
        "plt.ylabel('accuracy')\n",
        "plt.xlabel('epoch')\n",
        "plt.legend(['Train','Test'])\n",
        "plt.show()"
      ],
      "metadata": {
        "colab": {
          "base_uri": "https://localhost:8080/",
          "height": 449
        },
        "id": "uPNlCpIG2lHY",
        "outputId": "31b244a9-a5b2-4555-f1b2-0a18471b6df3"
      },
      "execution_count": 25,
      "outputs": [
        {
          "output_type": "display_data",
          "data": {
            "text/plain": [
              "<Figure size 640x480 with 1 Axes>"
            ],
            "image/png": "[encoded data removed]"
          },
          "metadata": {}
        }
      ]
    },
    {
      "cell_type": "code",
      "source": [
        "plt.plot(history.history['loss'])\n",
        "plt.plot(history.history['val_loss'])\n",
        "plt.ylabel('loss')\n",
        "plt.xlabel('epoch')\n",
        "plt.legend(['Train','Test'])\n",
        "plt.show()"
      ],
      "metadata": {
        "colab": {
          "base_uri": "https://localhost:8080/",
          "height": 449
        },
        "id": "KGqXJI5f3QPO",
        "outputId": "14518a57-b043-477d-d430-0c4f9fc9fa3a"
      },
      "execution_count": 26,
      "outputs": [
        {
          "output_type": "display_data",
          "data": {
            "text/plain": [
              "<Figure size 640x480 with 1 Axes>"
            ],
            "image/png": "[encoded data removed]"
          },
          "metadata": {}
        }
      ]
    },
    {
      "cell_type": "code",
      "source": [
        "model.save('trained_model_mnist.h5')"
      ],
      "metadata": {
        "colab": {
          "base_uri": "https://localhost:8080/"
        },
        "id": "3rvYwsl93nh2",
        "outputId": "9fb6aab9-9069-4379-9258-fc875f1af94c"
      },
      "execution_count": 27,
      "outputs": [
        {
          "output_type": "stream",
          "name": "stderr",
          "text": [
            "WARNING:absl:You are saving your model as an HDF5 file via `model.save()` or `keras.saving.save_model(model)`. This file format is considered legacy. We recommend using instead the native Keras format, e.g. `model.save('my_model.keras')` or `keras.saving.save_model(model, 'my_model.keras')`. \n"
          ]
        }
      ]
    },
    {
      "cell_type": "code",
      "source": [],
      "metadata": {
        "id": "8eDGaMve35Uu"
      },
      "execution_count": null,
      "outputs": []
    }
  ]
}